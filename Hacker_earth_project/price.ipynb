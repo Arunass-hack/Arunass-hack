{
  "nbformat": 4,
  "nbformat_minor": 0,
  "metadata": {
    "colab": {
      "name": "price.ipynb",
      "provenance": [],
      "include_colab_link": true
    },
    "kernelspec": {
      "name": "python3",
      "display_name": "Python 3"
    },
    "language_info": {
      "name": "python"
    }
  },
  "cells": [
    {
      "cell_type": "markdown",
      "metadata": {
        "id": "view-in-github",
        "colab_type": "text"
      },
      "source": [
        "<a href=\"https://colab.research.google.com/github/Arunass-hack/Arunass-hack/blob/main/Hacker_earth_project/price.ipynb\" target=\"_parent\"><img src=\"https://colab.research.google.com/assets/colab-badge.svg\" alt=\"Open In Colab\"/></a>"
      ]
    },
    {
      "cell_type": "code",
      "execution_count": 1,
      "metadata": {
        "id": "7c8Br_7iwR23"
      },
      "outputs": [],
      "source": [
        "import warnings\n",
        "warnings.filterwarnings('ignore')\n",
        "\n",
        "# Handle table-like data and matrices\n",
        "import numpy as np\n",
        "import pandas as pd\n",
        "\n",
        "from sklearn.linear_model import LinearRegression\n",
        "from sklearn.metrics import mean_squared_error\n",
        "from math import sqrt\n",
        "\n",
        "import pprint\n",
        "import matplotlib.pyplot as plt\n",
        "import seaborn as sns\n",
        "\n",
        "from sklearn.model_selection import cross_val_score\n",
        "from sklearn import metrics\n",
        "from sklearn.metrics import accuracy_score\n",
        "from sklearn.model_selection import train_test_split\n",
        "\n",
        "\n",
        "# Visualisation\n",
        "import matplotlib as mpl\n",
        "import matplotlib.pyplot as plt\n",
        "import matplotlib.pylab as pylab\n",
        "import seaborn as sns"
      ]
    },
    {
      "cell_type": "code",
      "source": [
        "df = pd.read_csv(\"total.csv\")"
      ],
      "metadata": {
        "id": "XMIpoqRKw-PK"
      },
      "execution_count": 2,
      "outputs": []
    },
    {
      "cell_type": "code",
      "source": [
        "df.head()"
      ],
      "metadata": {
        "colab": {
          "base_uri": "https://localhost:8080/",
          "height": 206
        },
        "id": "8TeBnXAkxA7u",
        "outputId": "45440847-9518-4b15-bcb7-851d51a7191c"
      },
      "execution_count": 3,
      "outputs": [
        {
          "output_type": "execute_result",
          "data": {
            "text/plain": [
              "    timestamp  state district     market               commodity  \\\n",
              "0  1523025126  Assam  Barpeta  Bohorihat  Black Gram (Urd Beans)   \n",
              "1  1523025126  Assam  Barpeta  Bohorihat         Corriander seed   \n",
              "2  1523025126  Assam  Barpeta  Bohorihat                    Jute   \n",
              "3  1523025126  Assam  Barpeta  Bohorihat           Lentil(Masur)   \n",
              "4  1523025126  Assam  Barpeta  Bohorihat                 Mustard   \n",
              "\n",
              "              variety arrival_date  min_price  max_price  modal_price  \n",
              "0  Black Gram (Whole)   06/04/2018     2800.0     3000.0       2900.0  \n",
              "1      Coriander Seed   06/04/2018     3500.0     4000.0       3825.0  \n",
              "2                TD-5   06/04/2018     3200.0     3875.0       3825.0  \n",
              "3         Masoor Gola   06/04/2018     3400.0     3600.0       3500.0  \n",
              "4             Mustard   06/04/2018     3550.0     3650.0       3600.0  "
            ],
            "text/html": [
              "\n",
              "  <div id=\"df-be40f051-ec2f-4af8-8d6d-1fd619086abc\">\n",
              "    <div class=\"colab-df-container\">\n",
              "      <div>\n",
              "<style scoped>\n",
              "    .dataframe tbody tr th:only-of-type {\n",
              "        vertical-align: middle;\n",
              "    }\n",
              "\n",
              "    .dataframe tbody tr th {\n",
              "        vertical-align: top;\n",
              "    }\n",
              "\n",
              "    .dataframe thead th {\n",
              "        text-align: right;\n",
              "    }\n",
              "</style>\n",
              "<table border=\"1\" class=\"dataframe\">\n",
              "  <thead>\n",
              "    <tr style=\"text-align: right;\">\n",
              "      <th></th>\n",
              "      <th>timestamp</th>\n",
              "      <th>state</th>\n",
              "      <th>district</th>\n",
              "      <th>market</th>\n",
              "      <th>commodity</th>\n",
              "      <th>variety</th>\n",
              "      <th>arrival_date</th>\n",
              "      <th>min_price</th>\n",
              "      <th>max_price</th>\n",
              "      <th>modal_price</th>\n",
              "    </tr>\n",
              "  </thead>\n",
              "  <tbody>\n",
              "    <tr>\n",
              "      <th>0</th>\n",
              "      <td>1523025126</td>\n",
              "      <td>Assam</td>\n",
              "      <td>Barpeta</td>\n",
              "      <td>Bohorihat</td>\n",
              "      <td>Black Gram (Urd Beans)</td>\n",
              "      <td>Black Gram (Whole)</td>\n",
              "      <td>06/04/2018</td>\n",
              "      <td>2800.0</td>\n",
              "      <td>3000.0</td>\n",
              "      <td>2900.0</td>\n",
              "    </tr>\n",
              "    <tr>\n",
              "      <th>1</th>\n",
              "      <td>1523025126</td>\n",
              "      <td>Assam</td>\n",
              "      <td>Barpeta</td>\n",
              "      <td>Bohorihat</td>\n",
              "      <td>Corriander seed</td>\n",
              "      <td>Coriander Seed</td>\n",
              "      <td>06/04/2018</td>\n",
              "      <td>3500.0</td>\n",
              "      <td>4000.0</td>\n",
              "      <td>3825.0</td>\n",
              "    </tr>\n",
              "    <tr>\n",
              "      <th>2</th>\n",
              "      <td>1523025126</td>\n",
              "      <td>Assam</td>\n",
              "      <td>Barpeta</td>\n",
              "      <td>Bohorihat</td>\n",
              "      <td>Jute</td>\n",
              "      <td>TD-5</td>\n",
              "      <td>06/04/2018</td>\n",
              "      <td>3200.0</td>\n",
              "      <td>3875.0</td>\n",
              "      <td>3825.0</td>\n",
              "    </tr>\n",
              "    <tr>\n",
              "      <th>3</th>\n",
              "      <td>1523025126</td>\n",
              "      <td>Assam</td>\n",
              "      <td>Barpeta</td>\n",
              "      <td>Bohorihat</td>\n",
              "      <td>Lentil(Masur)</td>\n",
              "      <td>Masoor Gola</td>\n",
              "      <td>06/04/2018</td>\n",
              "      <td>3400.0</td>\n",
              "      <td>3600.0</td>\n",
              "      <td>3500.0</td>\n",
              "    </tr>\n",
              "    <tr>\n",
              "      <th>4</th>\n",
              "      <td>1523025126</td>\n",
              "      <td>Assam</td>\n",
              "      <td>Barpeta</td>\n",
              "      <td>Bohorihat</td>\n",
              "      <td>Mustard</td>\n",
              "      <td>Mustard</td>\n",
              "      <td>06/04/2018</td>\n",
              "      <td>3550.0</td>\n",
              "      <td>3650.0</td>\n",
              "      <td>3600.0</td>\n",
              "    </tr>\n",
              "  </tbody>\n",
              "</table>\n",
              "</div>\n",
              "      <button class=\"colab-df-convert\" onclick=\"convertToInteractive('df-be40f051-ec2f-4af8-8d6d-1fd619086abc')\"\n",
              "              title=\"Convert this dataframe to an interactive table.\"\n",
              "              style=\"display:none;\">\n",
              "        \n",
              "  <svg xmlns=\"http://www.w3.org/2000/svg\" height=\"24px\"viewBox=\"0 0 24 24\"\n",
              "       width=\"24px\">\n",
              "    <path d=\"M0 0h24v24H0V0z\" fill=\"none\"/>\n",
              "    <path d=\"M18.56 5.44l.94 2.06.94-2.06 2.06-.94-2.06-.94-.94-2.06-.94 2.06-2.06.94zm-11 1L8.5 8.5l.94-2.06 2.06-.94-2.06-.94L8.5 2.5l-.94 2.06-2.06.94zm10 10l.94 2.06.94-2.06 2.06-.94-2.06-.94-.94-2.06-.94 2.06-2.06.94z\"/><path d=\"M17.41 7.96l-1.37-1.37c-.4-.4-.92-.59-1.43-.59-.52 0-1.04.2-1.43.59L10.3 9.45l-7.72 7.72c-.78.78-.78 2.05 0 2.83L4 21.41c.39.39.9.59 1.41.59.51 0 1.02-.2 1.41-.59l7.78-7.78 2.81-2.81c.8-.78.8-2.07 0-2.86zM5.41 20L4 18.59l7.72-7.72 1.47 1.35L5.41 20z\"/>\n",
              "  </svg>\n",
              "      </button>\n",
              "      \n",
              "  <style>\n",
              "    .colab-df-container {\n",
              "      display:flex;\n",
              "      flex-wrap:wrap;\n",
              "      gap: 12px;\n",
              "    }\n",
              "\n",
              "    .colab-df-convert {\n",
              "      background-color: #E8F0FE;\n",
              "      border: none;\n",
              "      border-radius: 50%;\n",
              "      cursor: pointer;\n",
              "      display: none;\n",
              "      fill: #1967D2;\n",
              "      height: 32px;\n",
              "      padding: 0 0 0 0;\n",
              "      width: 32px;\n",
              "    }\n",
              "\n",
              "    .colab-df-convert:hover {\n",
              "      background-color: #E2EBFA;\n",
              "      box-shadow: 0px 1px 2px rgba(60, 64, 67, 0.3), 0px 1px 3px 1px rgba(60, 64, 67, 0.15);\n",
              "      fill: #174EA6;\n",
              "    }\n",
              "\n",
              "    [theme=dark] .colab-df-convert {\n",
              "      background-color: #3B4455;\n",
              "      fill: #D2E3FC;\n",
              "    }\n",
              "\n",
              "    [theme=dark] .colab-df-convert:hover {\n",
              "      background-color: #434B5C;\n",
              "      box-shadow: 0px 1px 3px 1px rgba(0, 0, 0, 0.15);\n",
              "      filter: drop-shadow(0px 1px 2px rgba(0, 0, 0, 0.3));\n",
              "      fill: #FFFFFF;\n",
              "    }\n",
              "  </style>\n",
              "\n",
              "      <script>\n",
              "        const buttonEl =\n",
              "          document.querySelector('#df-be40f051-ec2f-4af8-8d6d-1fd619086abc button.colab-df-convert');\n",
              "        buttonEl.style.display =\n",
              "          google.colab.kernel.accessAllowed ? 'block' : 'none';\n",
              "\n",
              "        async function convertToInteractive(key) {\n",
              "          const element = document.querySelector('#df-be40f051-ec2f-4af8-8d6d-1fd619086abc');\n",
              "          const dataTable =\n",
              "            await google.colab.kernel.invokeFunction('convertToInteractive',\n",
              "                                                     [key], {});\n",
              "          if (!dataTable) return;\n",
              "\n",
              "          const docLinkHtml = 'Like what you see? Visit the ' +\n",
              "            '<a target=\"_blank\" href=https://colab.research.google.com/notebooks/data_table.ipynb>data table notebook</a>'\n",
              "            + ' to learn more about interactive tables.';\n",
              "          element.innerHTML = '';\n",
              "          dataTable['output_type'] = 'display_data';\n",
              "          await google.colab.output.renderOutput(dataTable, element);\n",
              "          const docLink = document.createElement('div');\n",
              "          docLink.innerHTML = docLinkHtml;\n",
              "          element.appendChild(docLink);\n",
              "        }\n",
              "      </script>\n",
              "    </div>\n",
              "  </div>\n",
              "  "
            ]
          },
          "metadata": {},
          "execution_count": 3
        }
      ]
    },
    {
      "cell_type": "code",
      "source": [
        "df.shape"
      ],
      "metadata": {
        "colab": {
          "base_uri": "https://localhost:8080/"
        },
        "id": "vFQkYwcvxHe9",
        "outputId": "f24832ae-f276-491b-cf75-01ec020281c8"
      },
      "execution_count": 4,
      "outputs": [
        {
          "output_type": "execute_result",
          "data": {
            "text/plain": [
              "(7418, 10)"
            ]
          },
          "metadata": {},
          "execution_count": 4
        }
      ]
    },
    {
      "cell_type": "code",
      "source": [
        "df.columns"
      ],
      "metadata": {
        "colab": {
          "base_uri": "https://localhost:8080/"
        },
        "id": "LXmc2O4TxNFi",
        "outputId": "6adcbf81-746d-4e17-ea53-a3c985d97c73"
      },
      "execution_count": 5,
      "outputs": [
        {
          "output_type": "execute_result",
          "data": {
            "text/plain": [
              "Index(['timestamp', 'state', 'district', 'market', 'commodity', 'variety',\n",
              "       'arrival_date', 'min_price', 'max_price', 'modal_price'],\n",
              "      dtype='object')"
            ]
          },
          "metadata": {},
          "execution_count": 5
        }
      ]
    },
    {
      "cell_type": "code",
      "source": [
        "df.describe()"
      ],
      "metadata": {
        "colab": {
          "base_uri": "https://localhost:8080/",
          "height": 300
        },
        "id": "33N29E1FxPYJ",
        "outputId": "3dafa437-8c37-4fe2-9e3b-e552f4645acc"
      },
      "execution_count": 6,
      "outputs": [
        {
          "output_type": "execute_result",
          "data": {
            "text/plain": [
              "          timestamp     min_price      max_price    modal_price\n",
              "count  7.418000e+03   7418.000000    7418.000000    7418.000000\n",
              "mean   1.523025e+09   2551.547816    2999.163084    2804.140783\n",
              "std    4.987461e-01   3563.042575    4199.273121    3917.043677\n",
              "min    1.523025e+09      0.000000       0.000000       0.410000\n",
              "25%    1.523025e+09    900.000000    1100.000000    1000.000000\n",
              "50%    1.523025e+09   1650.000000    2000.000000    1828.500000\n",
              "75%    1.523025e+09   3200.000000    3650.000000    3500.000000\n",
              "max    1.523025e+09  95000.000000  110000.000000  100000.000000"
            ],
            "text/html": [
              "\n",
              "  <div id=\"df-caf897d8-03ec-4beb-9935-43cf9b8afa87\">\n",
              "    <div class=\"colab-df-container\">\n",
              "      <div>\n",
              "<style scoped>\n",
              "    .dataframe tbody tr th:only-of-type {\n",
              "        vertical-align: middle;\n",
              "    }\n",
              "\n",
              "    .dataframe tbody tr th {\n",
              "        vertical-align: top;\n",
              "    }\n",
              "\n",
              "    .dataframe thead th {\n",
              "        text-align: right;\n",
              "    }\n",
              "</style>\n",
              "<table border=\"1\" class=\"dataframe\">\n",
              "  <thead>\n",
              "    <tr style=\"text-align: right;\">\n",
              "      <th></th>\n",
              "      <th>timestamp</th>\n",
              "      <th>min_price</th>\n",
              "      <th>max_price</th>\n",
              "      <th>modal_price</th>\n",
              "    </tr>\n",
              "  </thead>\n",
              "  <tbody>\n",
              "    <tr>\n",
              "      <th>count</th>\n",
              "      <td>7.418000e+03</td>\n",
              "      <td>7418.000000</td>\n",
              "      <td>7418.000000</td>\n",
              "      <td>7418.000000</td>\n",
              "    </tr>\n",
              "    <tr>\n",
              "      <th>mean</th>\n",
              "      <td>1.523025e+09</td>\n",
              "      <td>2551.547816</td>\n",
              "      <td>2999.163084</td>\n",
              "      <td>2804.140783</td>\n",
              "    </tr>\n",
              "    <tr>\n",
              "      <th>std</th>\n",
              "      <td>4.987461e-01</td>\n",
              "      <td>3563.042575</td>\n",
              "      <td>4199.273121</td>\n",
              "      <td>3917.043677</td>\n",
              "    </tr>\n",
              "    <tr>\n",
              "      <th>min</th>\n",
              "      <td>1.523025e+09</td>\n",
              "      <td>0.000000</td>\n",
              "      <td>0.000000</td>\n",
              "      <td>0.410000</td>\n",
              "    </tr>\n",
              "    <tr>\n",
              "      <th>25%</th>\n",
              "      <td>1.523025e+09</td>\n",
              "      <td>900.000000</td>\n",
              "      <td>1100.000000</td>\n",
              "      <td>1000.000000</td>\n",
              "    </tr>\n",
              "    <tr>\n",
              "      <th>50%</th>\n",
              "      <td>1.523025e+09</td>\n",
              "      <td>1650.000000</td>\n",
              "      <td>2000.000000</td>\n",
              "      <td>1828.500000</td>\n",
              "    </tr>\n",
              "    <tr>\n",
              "      <th>75%</th>\n",
              "      <td>1.523025e+09</td>\n",
              "      <td>3200.000000</td>\n",
              "      <td>3650.000000</td>\n",
              "      <td>3500.000000</td>\n",
              "    </tr>\n",
              "    <tr>\n",
              "      <th>max</th>\n",
              "      <td>1.523025e+09</td>\n",
              "      <td>95000.000000</td>\n",
              "      <td>110000.000000</td>\n",
              "      <td>100000.000000</td>\n",
              "    </tr>\n",
              "  </tbody>\n",
              "</table>\n",
              "</div>\n",
              "      <button class=\"colab-df-convert\" onclick=\"convertToInteractive('df-caf897d8-03ec-4beb-9935-43cf9b8afa87')\"\n",
              "              title=\"Convert this dataframe to an interactive table.\"\n",
              "              style=\"display:none;\">\n",
              "        \n",
              "  <svg xmlns=\"http://www.w3.org/2000/svg\" height=\"24px\"viewBox=\"0 0 24 24\"\n",
              "       width=\"24px\">\n",
              "    <path d=\"M0 0h24v24H0V0z\" fill=\"none\"/>\n",
              "    <path d=\"M18.56 5.44l.94 2.06.94-2.06 2.06-.94-2.06-.94-.94-2.06-.94 2.06-2.06.94zm-11 1L8.5 8.5l.94-2.06 2.06-.94-2.06-.94L8.5 2.5l-.94 2.06-2.06.94zm10 10l.94 2.06.94-2.06 2.06-.94-2.06-.94-.94-2.06-.94 2.06-2.06.94z\"/><path d=\"M17.41 7.96l-1.37-1.37c-.4-.4-.92-.59-1.43-.59-.52 0-1.04.2-1.43.59L10.3 9.45l-7.72 7.72c-.78.78-.78 2.05 0 2.83L4 21.41c.39.39.9.59 1.41.59.51 0 1.02-.2 1.41-.59l7.78-7.78 2.81-2.81c.8-.78.8-2.07 0-2.86zM5.41 20L4 18.59l7.72-7.72 1.47 1.35L5.41 20z\"/>\n",
              "  </svg>\n",
              "      </button>\n",
              "      \n",
              "  <style>\n",
              "    .colab-df-container {\n",
              "      display:flex;\n",
              "      flex-wrap:wrap;\n",
              "      gap: 12px;\n",
              "    }\n",
              "\n",
              "    .colab-df-convert {\n",
              "      background-color: #E8F0FE;\n",
              "      border: none;\n",
              "      border-radius: 50%;\n",
              "      cursor: pointer;\n",
              "      display: none;\n",
              "      fill: #1967D2;\n",
              "      height: 32px;\n",
              "      padding: 0 0 0 0;\n",
              "      width: 32px;\n",
              "    }\n",
              "\n",
              "    .colab-df-convert:hover {\n",
              "      background-color: #E2EBFA;\n",
              "      box-shadow: 0px 1px 2px rgba(60, 64, 67, 0.3), 0px 1px 3px 1px rgba(60, 64, 67, 0.15);\n",
              "      fill: #174EA6;\n",
              "    }\n",
              "\n",
              "    [theme=dark] .colab-df-convert {\n",
              "      background-color: #3B4455;\n",
              "      fill: #D2E3FC;\n",
              "    }\n",
              "\n",
              "    [theme=dark] .colab-df-convert:hover {\n",
              "      background-color: #434B5C;\n",
              "      box-shadow: 0px 1px 3px 1px rgba(0, 0, 0, 0.15);\n",
              "      filter: drop-shadow(0px 1px 2px rgba(0, 0, 0, 0.3));\n",
              "      fill: #FFFFFF;\n",
              "    }\n",
              "  </style>\n",
              "\n",
              "      <script>\n",
              "        const buttonEl =\n",
              "          document.querySelector('#df-caf897d8-03ec-4beb-9935-43cf9b8afa87 button.colab-df-convert');\n",
              "        buttonEl.style.display =\n",
              "          google.colab.kernel.accessAllowed ? 'block' : 'none';\n",
              "\n",
              "        async function convertToInteractive(key) {\n",
              "          const element = document.querySelector('#df-caf897d8-03ec-4beb-9935-43cf9b8afa87');\n",
              "          const dataTable =\n",
              "            await google.colab.kernel.invokeFunction('convertToInteractive',\n",
              "                                                     [key], {});\n",
              "          if (!dataTable) return;\n",
              "\n",
              "          const docLinkHtml = 'Like what you see? Visit the ' +\n",
              "            '<a target=\"_blank\" href=https://colab.research.google.com/notebooks/data_table.ipynb>data table notebook</a>'\n",
              "            + ' to learn more about interactive tables.';\n",
              "          element.innerHTML = '';\n",
              "          dataTable['output_type'] = 'display_data';\n",
              "          await google.colab.output.renderOutput(dataTable, element);\n",
              "          const docLink = document.createElement('div');\n",
              "          docLink.innerHTML = docLinkHtml;\n",
              "          element.appendChild(docLink);\n",
              "        }\n",
              "      </script>\n",
              "    </div>\n",
              "  </div>\n",
              "  "
            ]
          },
          "metadata": {},
          "execution_count": 6
        }
      ]
    },
    {
      "cell_type": "code",
      "source": [
        "correlation_map = df[df.columns].corr()\n",
        "obj = np.array(correlation_map)\n",
        "obj[np.tril_indices_from(obj)] = False\n",
        "fig,ax= plt.subplots()\n",
        "fig.set_size_inches(15,10)\n",
        "sns.heatmap(correlation_map, mask=obj,vmax=.7, square=True,annot=True)"
      ],
      "metadata": {
        "colab": {
          "base_uri": "https://localhost:8080/",
          "height": 613
        },
        "id": "hHoCbh-IxSi1",
        "outputId": "9b2650a1-53b4-4d80-dad3-69386a06a9db"
      },
      "execution_count": 7,
      "outputs": [
        {
          "output_type": "execute_result",
          "data": {
            "text/plain": [
              "<matplotlib.axes._subplots.AxesSubplot at 0x7fa5c7868450>"
            ]
          },
          "metadata": {},
          "execution_count": 7
        },
        {
          "output_type": "display_data",
          "data": {
            "text/plain": [
              "<Figure size 1080x720 with 2 Axes>"
            ],
            "image/png": "[encoded data removed]"
          },
          "metadata": {
            "needs_background": "light"
          }
        }
      ]
    },
    {
      "cell_type": "code",
      "source": [
        "df.state.unique()"
      ],
      "metadata": {
        "colab": {
          "base_uri": "https://localhost:8080/"
        },
        "id": "4jh-zItLxaap",
        "outputId": "1e93579e-eab1-48c9-e0d7-15ec0d91e56a"
      },
      "execution_count": 8,
      "outputs": [
        {
          "output_type": "execute_result",
          "data": {
            "text/plain": [
              "array(['Assam', 'Chattisgarh', 'Gujarat', 'Haryana', 'Himachal Pradesh',\n",
              "       'Jharkhand', 'Karnataka', 'Kerala', 'Madhya Pradesh',\n",
              "       'Maharashtra', 'Meghalaya', 'NCT of Delhi', 'Orissa',\n",
              "       'Pondicherry', 'Punjab', 'Rajasthan', 'Tamil Nadu', 'Telangana',\n",
              "       'Tripura', 'Uttar Pradesh', 'Uttrakhand', 'West Bengal'],\n",
              "      dtype=object)"
            ]
          },
          "metadata": {},
          "execution_count": 8
        }
      ]
    },
    {
      "cell_type": "code",
      "source": [
        "df.district.unique()"
      ],
      "metadata": {
        "colab": {
          "base_uri": "https://localhost:8080/"
        },
        "id": "RNdhqys5xdf_",
        "outputId": "fb5e40b0-400e-4d43-98c6-0e4692737224"
      },
      "execution_count": 9,
      "outputs": [
        {
          "output_type": "execute_result",
          "data": {
            "text/plain": [
              "array(['Barpeta', 'Dhemaji', 'Kamrup', 'Nagaon', 'Nalbari', 'Sonitpur',\n",
              "       'Bastar', 'Bilaspur', 'Durg', 'Janjgir', 'Mahasamund',\n",
              "       'North Bastar', 'Rajnandgaon', 'Surguja', 'Ahmedabad', 'Amreli',\n",
              "       'Anand', 'Banaskanth', 'Bharuch', 'Bhavnagar', 'Dahod',\n",
              "       'Gandhinagar', 'Jamnagar', 'Junagarh', 'Kheda', 'Mehsana', 'Morbi',\n",
              "       'Panchmahals', 'Patan', 'Porbandar', 'Rajkot', 'Sabarkantha',\n",
              "       'Surat', 'Surendranagar', 'Vadodara(Baroda)', 'Valsad', 'Ambala',\n",
              "       'Bhiwani', 'Faridabad', 'Fatehabad', 'Jind', 'Kaithal', 'Karnal',\n",
              "       'Kurukshetra', 'Mahendragarh-Narnaul', 'Panchkula', 'Rohtak',\n",
              "       'Sirsa', 'Sonipat', 'Yamuna Nagar', 'Chamba', 'Hamirpur', 'Kangra',\n",
              "       'Kullu', 'Mandi', 'Shimla', 'Sirmore', 'Solan', 'Una', 'Bokaro',\n",
              "       'Dhanbad', 'East Singhbhum', 'Garhwa', 'Giridih', 'Godda', 'Gumla',\n",
              "       'Koderma', 'Lohardaga', 'Pakur', 'Ranchi', 'Simdega', 'Bagalkot',\n",
              "       'Bangalore', 'Belgaum', 'Bellary', 'Bidar', 'Bijapur',\n",
              "       'Chamrajnagar', 'Chikmagalur', 'Chitradurga', 'Davangere',\n",
              "       'Dharwad', 'Gadag', 'Gulbarga', 'Hassan', 'Haveri',\n",
              "       'Karwar(Uttar Kannad)', 'Kolar', 'Koppal', 'Madikeri(Kodagu)',\n",
              "       'Mandya', 'Mangalore(Dakshin Kannad)', 'Mysore', 'Raichur',\n",
              "       'Shimoga', 'Tumkur', 'Udupi', 'Alappuzha', 'Ernakulam', 'Idukki',\n",
              "       'Kannur', 'Kasargod', 'Kollam', 'Kottayam', 'Kozhikode(Calicut)',\n",
              "       'Malappuram', 'Palakad', 'Pathanamthitta', 'Thiruvananthapuram',\n",
              "       'Burhanpur', 'Chhindwara', 'Dewas', 'Dhar', 'Dindori', 'Harda',\n",
              "       'Hoshangabad', 'Indore', 'Khargone', 'Mandsaur', 'Neemuch',\n",
              "       'Panna', 'Rajgarh', 'Ratlam', 'Sagar', 'Satna', 'Sehore',\n",
              "       'Shajapur', 'Sheopur', 'Ujjain', 'Vidisha', 'Ahmednagar', 'Akola',\n",
              "       'Amarawati', 'Aurangabad', 'Beed', 'Bhandara', 'Buldhana',\n",
              "       'Chandrapur', 'Dhule', 'Gadchiroli', 'Hingoli', 'Jalana',\n",
              "       'Jalgaon', 'Kolhapur', 'Latur', 'Mumbai', 'Nagpur', 'Nanded',\n",
              "       'Nashik', 'Osmanabad', 'Parbhani', 'Pune', 'Raigad', 'Ratnagiri',\n",
              "       'Sangli', 'Satara', 'Sholapur', 'Thane', 'Wardha', 'Yavatmal',\n",
              "       'East Khasi Hills', 'West Garo Hills', 'West Jaintia Hills',\n",
              "       'Delhi', 'Bargarh', 'Bhadrak', 'Bolangir', 'Boudh', 'Cuttack',\n",
              "       'Deogarh', 'Dhenkanal', 'Ganjam', 'Jajpur', 'Kendrapara',\n",
              "       'Malkangiri', 'Mayurbhanja', 'Nayagarh', 'Nowarangpur', 'Nuapada',\n",
              "       'Sambalpur', 'Sonepur', 'Sundergarh', 'Karaikal', 'Amritsar',\n",
              "       'Barnala', 'Bhatinda', 'Faridkot', 'Fatehgarh', 'Fazilka',\n",
              "       'Ferozpur', 'Gurdaspur', 'Hoshiarpur', 'Jalandhar', 'kapurthala',\n",
              "       'Ludhiana', 'Moga', 'Mohali', 'Muktsar', 'Nawanshahr', 'Pathankot',\n",
              "       'Patiala', 'Ropar (Rupnagar)', 'Sangrur', 'Tarntaran', 'Ajmer',\n",
              "       'Banswara', 'Baran', 'Barmer', 'Bharatpur', 'Bikaner',\n",
              "       'Chittorgarh', 'Churu', 'Dausa', 'Ganganagar', 'Hanumangarh',\n",
              "       'Jaipur', 'Jalore', 'Jhalawar', 'Jodhpur', 'Kota', 'Pali', 'Sikar',\n",
              "       'Sirohi', 'Swai Madhopur', 'Tonk', 'Udaipur', 'Ariyalur',\n",
              "       'Coimbatore', 'Cuddalore', 'Dharmapuri', 'Dindigul', 'Erode',\n",
              "       'Kancheepuram', 'Krishnagiri', 'Madurai', 'Namakkal',\n",
              "       'Ramanathapuram', 'Salem', 'Sivaganga', 'Thanjavur', 'Theni',\n",
              "       'Thirunelveli', 'Thiruvannamalai', 'Thiruvarur', 'Vellore',\n",
              "       'Villupuram', 'Virudhunagar', 'Adilabad', 'Hyderabad',\n",
              "       'Karimnagar', 'Khammam', 'Mahbubnagar', 'Medak', 'Nalgonda',\n",
              "       'Nizamabad', 'Ranga Reddy Dist.', 'Warangal', 'Khowai',\n",
              "       'West District', 'Agra', 'Aligarh', 'Allahabad', 'Ambedkarnagar',\n",
              "       'Auraiya', 'Azamgarh', 'Badaun', 'Baghpat', 'Bahraich', 'Ballia',\n",
              "       'Balrampur', 'Banda', 'Barabanki', 'Bareilly', 'Basti', 'Bijnor',\n",
              "       'Bulandshahar', 'Chitrakut', 'Deoria', 'Etah', 'Etawah',\n",
              "       'Faizabad', 'Farukhabad', 'Fatehpur', 'Firozabad',\n",
              "       'Gautam Budh Nagar', 'Ghaziabad', 'Ghazipur', 'Gonda', 'Gorakhpur',\n",
              "       'Hardoi', 'Hathras', 'Jalaun (Orai)', 'Jaunpur', 'Jhansi',\n",
              "       'Jyotiba Phule Nagar', 'Kannuj', 'Kanpur', 'Khiri (Lakhimpur)',\n",
              "       'Lakhimpur', 'Lalitpur', 'Lucknow', 'Maharajganj', 'Mahoba',\n",
              "       'Mainpuri', 'Mathura', 'Mau(Maunathbhanjan)', 'Meerut', 'Mirzapur',\n",
              "       'Muradabad', 'Muzaffarnagar', 'Padrauna(Kusinagar)', 'Pillibhit',\n",
              "       'Pratapgarh', 'Raebarelli', 'Rampur', 'Saharanpur',\n",
              "       'Sant Kabir Nagar', 'Shahjahanpur', 'Shravasti', 'Siddharth Nagar',\n",
              "       'Sitapur', 'Sonbhadra', 'Sultanpur', 'Unnao', 'Varanasi',\n",
              "       'Champawat', 'Dehradoon', 'Garhwal (Pauri)', 'Haridwar', 'Nanital',\n",
              "       'UdhamSinghNagar', 'Bankura', 'Birbhum', 'Burdwan', 'Coochbehar',\n",
              "       'Dakshin Dinajpur', 'Darjeeling', 'Hooghly', 'Howrah',\n",
              "       'Jalpaiguri', 'Kolkata', 'Malda', 'Medinipur(E)', 'Medinipur(W)',\n",
              "       'Murshidabad', 'Nadia', 'Puruliya', 'Uttar Dinajpur'], dtype=object)"
            ]
          },
          "metadata": {},
          "execution_count": 9
        }
      ]
    },
    {
      "cell_type": "code",
      "source": [
        "df.commodity.unique()"
      ],
      "metadata": {
        "colab": {
          "base_uri": "https://localhost:8080/"
        },
        "id": "XxeTQN2fxhDt",
        "outputId": "af225e28-6773-4542-d256-e9d82fb11989"
      },
      "execution_count": 10,
      "outputs": [
        {
          "output_type": "execute_result",
          "data": {
            "text/plain": [
              "array(['Black Gram (Urd Beans)', 'Corriander seed', 'Jute',\n",
              "       'Lentil(Masur)', 'Mustard', 'Potato', 'Wheat Atta', 'Maida Atta',\n",
              "       'Green Chilli', 'Green Gram Dal (Moong Dal)', 'Paddy(Dhan)',\n",
              "       'Bengal Gram(Gram)', 'Lak(Teora)', 'Onion', 'Tomato', 'Tinda',\n",
              "       'Mahua', 'Bhindi(Ladies Finger)', 'Lemon', 'Maize', 'Bottle gourd',\n",
              "       'Brinjal', 'Carrot', 'Methi(Leaves)', 'Cotton',\n",
              "       'Bajra(Pearl Millet/Cumbu)', 'Castor Seed', 'Chili Red',\n",
              "       'Cummin Seed(Jeera)', 'Jowar(Sorghum)', 'Methi Seeds',\n",
              "       'Sesamum(Sesame,Gingelly,Til)', 'Wheat', 'Suva (Dill Seed)',\n",
              "       'Rajgir', 'Soanf', 'Guar Seed(Cluster Beans Seed)',\n",
              "       'Coriander(Leaves)', 'Ginger(Green)', 'Groundnut',\n",
              "       'Arhar (Tur/Red Gram)', 'Beans', 'Soyabean', 'Barley (Jau)',\n",
              "       'Green Gram (Moong)', 'Groundnut (Split)', 'Isabgul (Psyllium)',\n",
              "       'Kulthi(Horse Gram)', 'Ground Nut Seed', 'Garlic', 'Cluster beans',\n",
              "       'Cauliflower', 'Cucumbar(Kheera)', 'Pumpkin', 'Apple',\n",
              "       'Bitter gourd', 'Cabbage', 'Capsicum', 'Ginger(Dry)',\n",
              "       'Long Melon(Kakri)', 'Mango', 'Peas Wet', 'Raddish', 'Spinach',\n",
              "       'Banana', 'Ber(Zizyphus/Borehannu)', 'Grapes',\n",
              "       'Mousambi(Sweet Lime)', 'Turnip', 'Orange', 'Pine Apple',\n",
              "       'Pomegranate', 'Water Melon', 'Chikoos(Sapota)', 'Green Peas',\n",
              "       'Karbuja(Musk Melon)', 'Linseed', 'Sponge gourd', 'Kinnow',\n",
              "       'French Beans (Frasbean)', 'Guava', 'Papaya',\n",
              "       'Squash(Chappal Kadoo)', 'Gur(Jaggery)',\n",
              "       'Bengal Gram Dal (Chana Dal)', 'Masur Dal', 'Sugar',\n",
              "       'Pointed gourd (Parval)', 'Arhar Dal(Tur Dal)', 'Mustard Oil',\n",
              "       'Rice', 'Jack Fruit', 'Dalda', 'Peas(Dry)', 'Tamarind Fruit',\n",
              "       'Cowpea (Lobia/Karamani)', 'Sunflower', 'Alasande Gram',\n",
              "       'Avare Dal', 'Black Gram Dal (Urd Dal)', 'Black pepper',\n",
              "       'Cashewnuts', 'Chennangi Dal', 'Coconut', 'Dry Chillies',\n",
              "       'Moath Dal', 'Ragi (Finger Millet)', 'Ridgeguard(Tori)',\n",
              "       'Beetroot', 'Chilly Capsicum', 'Drumstick', 'Knool Khol',\n",
              "       'Seemebadnekai', 'Snakeguard', 'Foxtail Millet(Navane)',\n",
              "       'Safflower', 'Banana - Green', 'Tender Coconut', 'Lint', 'Sajje',\n",
              "       'Copra', 'Arecanut(Betelnut/Supari)', 'Chapparad Avare',\n",
              "       'Honge seed', 'T.V. Cumbu', 'Tamarind Seed',\n",
              "       'Soapnut(Antawala/Retha)', 'Elephant Yam (Suran)', 'Amphophalus',\n",
              "       'Ashgourd', 'Coconut Oil', 'Cowpea(Veg)', 'Gingelly Oil',\n",
              "       'Amaranthus', 'Colacasia', 'Tapioca', 'Little gourd (Kundru)',\n",
              "       'Mango (Raw-Ripe)', 'Cardamoms', 'Cloves', 'Coffee', 'Nutmeg',\n",
              "       'Rubber', 'Turmeric', 'Indian Beans (Seam)', 'Pepper ungarbled',\n",
              "       'Coconut Seed', 'Papaya (Raw)', 'Green Avare (W)',\n",
              "       'Kabuli Chana(Chickpeas-White)', 'Lime', 'Sweet Potato',\n",
              "       'Duster Beans', 'Myrobolan(Harad)', 'Plum', 'Mataki', 'Guar',\n",
              "       'Sweet Pumpkin', 'Mint(Pudina)', 'Onion Green', 'Leafy Vegetable',\n",
              "       'Betal Leaves', 'Field Pea', 'Chrysanthemum', 'Cornation',\n",
              "       'Gladiolus Cut Flower', 'Jaffri', 'Jarbara', 'Lilly', 'Marget',\n",
              "       'Marigold(Calcutta)', 'Marigold(loose)', 'Orchid',\n",
              "       'Patti Calcutta', 'Raibel', 'Rose(Local)', 'Rose(Loose)',\n",
              "       'Tube Rose(Double)', 'Tube Rose(Loose)', 'Tube Rose(Single)',\n",
              "       'Fish', 'Egg', 'Broken Rice', 'Round gourd', 'Peas cod',\n",
              "       'Gram Raw(Chholia)', 'Mashrooms', 'Yam', 'Wood', 'Pigs',\n",
              "       'White Peas', 'Firewood'], dtype=object)"
            ]
          },
          "metadata": {},
          "execution_count": 10
        }
      ]
    },
    {
      "cell_type": "code",
      "source": [
        "df.info()"
      ],
      "metadata": {
        "colab": {
          "base_uri": "https://localhost:8080/"
        },
        "id": "ojjvF4Jkxkyx",
        "outputId": "4381c761-43bf-4dc2-ca91-a0cb069ca638"
      },
      "execution_count": 11,
      "outputs": [
        {
          "output_type": "stream",
          "name": "stdout",
          "text": [
            "<class 'pandas.core.frame.DataFrame'>\n",
            "RangeIndex: 7418 entries, 0 to 7417\n",
            "Data columns (total 10 columns):\n",
            " #   Column        Non-Null Count  Dtype  \n",
            "---  ------        --------------  -----  \n",
            " 0   timestamp     7418 non-null   int64  \n",
            " 1   state         7418 non-null   object \n",
            " 2   district      7418 non-null   object \n",
            " 3   market        7418 non-null   object \n",
            " 4   commodity     7418 non-null   object \n",
            " 5   variety       7418 non-null   object \n",
            " 6   arrival_date  7418 non-null   object \n",
            " 7   min_price     7418 non-null   float64\n",
            " 8   max_price     7418 non-null   float64\n",
            " 9   modal_price   7418 non-null   float64\n",
            "dtypes: float64(3), int64(1), object(6)\n",
            "memory usage: 579.7+ KB\n"
          ]
        }
      ]
    },
    {
      "cell_type": "code",
      "source": [
        "def get_val(state , district , commodity):\n",
        "    temp = df.loc[(df.state == state) & (df.district == district) & (df.commodity == commodity), : ]\n",
        "    fig, axes = plt.subplots(6,1)\n",
        "    fig.set_size_inches(20, 30)\n",
        "    sns.barplot(data=temp ,y=\"min_price\",x=\"market\" ,orient=\"v\" , ax = axes[0] )\n",
        "    sns.pointplot(data=temp ,y=\"min_price\",x=\"market\" ,orient=\"v\" , ax = axes[1] )\n",
        "    #sns.stripplot(x=\"market\", y=\"min_price\", data=temp , jitter=True ,  ax = axes[1])\n",
        "    #sns.distplot(temp.modal_price , ax = axes[3])\n",
        "    sns.barplot(data=temp ,y=\"modal_price\",x=\"market\" ,orient=\"v\" , ax = axes[2] )\n",
        "    sns.pointplot(data=temp ,y=\"modal_price\",x=\"market\" ,orient=\"v\" , ax = axes[3] )\n",
        "    sns.barplot(data=temp ,y=\"max_price\",x=\"market\" ,orient=\"v\" , ax = axes[4] )\n",
        "    sns.pointplot(data=temp ,y=\"max_price\",x=\"market\" ,orient=\"v\" , ax = axes[5] )"
      ],
      "metadata": {
        "id": "on9j3C85xpPx"
      },
      "execution_count": 12,
      "outputs": []
    },
    {
      "cell_type": "code",
      "source": [
        "from sklearn.preprocessing import LabelEncoder\n",
        "le = LabelEncoder()\n",
        "df['commodity'] = le.fit_transform(df['commodity'])\n",
        "df['variety'] = le.fit_transform(df['variety'])"
      ],
      "metadata": {
        "id": "wPjGS9oVyD3E"
      },
      "execution_count": 13,
      "outputs": []
    },
    {
      "cell_type": "code",
      "source": [
        "df.head()"
      ],
      "metadata": {
        "colab": {
          "base_uri": "https://localhost:8080/",
          "height": 206
        },
        "id": "-ImTd_-FyJBw",
        "outputId": "21fd9a78-e27a-4781-d042-9b00480233ee"
      },
      "execution_count": 14,
      "outputs": [
        {
          "output_type": "execute_result",
          "data": {
            "text/plain": [
              "    timestamp  state district     market  commodity  variety arrival_date  \\\n",
              "0  1523025126  Assam  Barpeta  Bohorihat         21       52   06/04/2018   \n",
              "1  1523025126  Assam  Barpeta  Bohorihat         50       86   06/04/2018   \n",
              "2  1523025126  Assam  Barpeta  Bohorihat         93      312   06/04/2018   \n",
              "3  1523025126  Assam  Barpeta  Bohorihat        102      207   06/04/2018   \n",
              "4  1523025126  Assam  Barpeta  Bohorihat        125      221   06/04/2018   \n",
              "\n",
              "   min_price  max_price  modal_price  \n",
              "0     2800.0     3000.0       2900.0  \n",
              "1     3500.0     4000.0       3825.0  \n",
              "2     3200.0     3875.0       3825.0  \n",
              "3     3400.0     3600.0       3500.0  \n",
              "4     3550.0     3650.0       3600.0  "
            ],
            "text/html": [
              "\n",
              "  <div id=\"df-49c2a5ea-6923-4cdc-be3d-73cf8681b7b9\">\n",
              "    <div class=\"colab-df-container\">\n",
              "      <div>\n",
              "<style scoped>\n",
              "    .dataframe tbody tr th:only-of-type {\n",
              "        vertical-align: middle;\n",
              "    }\n",
              "\n",
              "    .dataframe tbody tr th {\n",
              "        vertical-align: top;\n",
              "    }\n",
              "\n",
              "    .dataframe thead th {\n",
              "        text-align: right;\n",
              "    }\n",
              "</style>\n",
              "<table border=\"1\" class=\"dataframe\">\n",
              "  <thead>\n",
              "    <tr style=\"text-align: right;\">\n",
              "      <th></th>\n",
              "      <th>timestamp</th>\n",
              "      <th>state</th>\n",
              "      <th>district</th>\n",
              "      <th>market</th>\n",
              "      <th>commodity</th>\n",
              "      <th>variety</th>\n",
              "      <th>arrival_date</th>\n",
              "      <th>min_price</th>\n",
              "      <th>max_price</th>\n",
              "      <th>modal_price</th>\n",
              "    </tr>\n",
              "  </thead>\n",
              "  <tbody>\n",
              "    <tr>\n",
              "      <th>0</th>\n",
              "      <td>1523025126</td>\n",
              "      <td>Assam</td>\n",
              "      <td>Barpeta</td>\n",
              "      <td>Bohorihat</td>\n",
              "      <td>21</td>\n",
              "      <td>52</td>\n",
              "      <td>06/04/2018</td>\n",
              "      <td>2800.0</td>\n",
              "      <td>3000.0</td>\n",
              "      <td>2900.0</td>\n",
              "    </tr>\n",
              "    <tr>\n",
              "      <th>1</th>\n",
              "      <td>1523025126</td>\n",
              "      <td>Assam</td>\n",
              "      <td>Barpeta</td>\n",
              "      <td>Bohorihat</td>\n",
              "      <td>50</td>\n",
              "      <td>86</td>\n",
              "      <td>06/04/2018</td>\n",
              "      <td>3500.0</td>\n",
              "      <td>4000.0</td>\n",
              "      <td>3825.0</td>\n",
              "    </tr>\n",
              "    <tr>\n",
              "      <th>2</th>\n",
              "      <td>1523025126</td>\n",
              "      <td>Assam</td>\n",
              "      <td>Barpeta</td>\n",
              "      <td>Bohorihat</td>\n",
              "      <td>93</td>\n",
              "      <td>312</td>\n",
              "      <td>06/04/2018</td>\n",
              "      <td>3200.0</td>\n",
              "      <td>3875.0</td>\n",
              "      <td>3825.0</td>\n",
              "    </tr>\n",
              "    <tr>\n",
              "      <th>3</th>\n",
              "      <td>1523025126</td>\n",
              "      <td>Assam</td>\n",
              "      <td>Barpeta</td>\n",
              "      <td>Bohorihat</td>\n",
              "      <td>102</td>\n",
              "      <td>207</td>\n",
              "      <td>06/04/2018</td>\n",
              "      <td>3400.0</td>\n",
              "      <td>3600.0</td>\n",
              "      <td>3500.0</td>\n",
              "    </tr>\n",
              "    <tr>\n",
              "      <th>4</th>\n",
              "      <td>1523025126</td>\n",
              "      <td>Assam</td>\n",
              "      <td>Barpeta</td>\n",
              "      <td>Bohorihat</td>\n",
              "      <td>125</td>\n",
              "      <td>221</td>\n",
              "      <td>06/04/2018</td>\n",
              "      <td>3550.0</td>\n",
              "      <td>3650.0</td>\n",
              "      <td>3600.0</td>\n",
              "    </tr>\n",
              "  </tbody>\n",
              "</table>\n",
              "</div>\n",
              "      <button class=\"colab-df-convert\" onclick=\"convertToInteractive('df-49c2a5ea-6923-4cdc-be3d-73cf8681b7b9')\"\n",
              "              title=\"Convert this dataframe to an interactive table.\"\n",
              "              style=\"display:none;\">\n",
              "        \n",
              "  <svg xmlns=\"http://www.w3.org/2000/svg\" height=\"24px\"viewBox=\"0 0 24 24\"\n",
              "       width=\"24px\">\n",
              "    <path d=\"M0 0h24v24H0V0z\" fill=\"none\"/>\n",
              "    <path d=\"M18.56 5.44l.94 2.06.94-2.06 2.06-.94-2.06-.94-.94-2.06-.94 2.06-2.06.94zm-11 1L8.5 8.5l.94-2.06 2.06-.94-2.06-.94L8.5 2.5l-.94 2.06-2.06.94zm10 10l.94 2.06.94-2.06 2.06-.94-2.06-.94-.94-2.06-.94 2.06-2.06.94z\"/><path d=\"M17.41 7.96l-1.37-1.37c-.4-.4-.92-.59-1.43-.59-.52 0-1.04.2-1.43.59L10.3 9.45l-7.72 7.72c-.78.78-.78 2.05 0 2.83L4 21.41c.39.39.9.59 1.41.59.51 0 1.02-.2 1.41-.59l7.78-7.78 2.81-2.81c.8-.78.8-2.07 0-2.86zM5.41 20L4 18.59l7.72-7.72 1.47 1.35L5.41 20z\"/>\n",
              "  </svg>\n",
              "      </button>\n",
              "      \n",
              "  <style>\n",
              "    .colab-df-container {\n",
              "      display:flex;\n",
              "      flex-wrap:wrap;\n",
              "      gap: 12px;\n",
              "    }\n",
              "\n",
              "    .colab-df-convert {\n",
              "      background-color: #E8F0FE;\n",
              "      border: none;\n",
              "      border-radius: 50%;\n",
              "      cursor: pointer;\n",
              "      display: none;\n",
              "      fill: #1967D2;\n",
              "      height: 32px;\n",
              "      padding: 0 0 0 0;\n",
              "      width: 32px;\n",
              "    }\n",
              "\n",
              "    .colab-df-convert:hover {\n",
              "      background-color: #E2EBFA;\n",
              "      box-shadow: 0px 1px 2px rgba(60, 64, 67, 0.3), 0px 1px 3px 1px rgba(60, 64, 67, 0.15);\n",
              "      fill: #174EA6;\n",
              "    }\n",
              "\n",
              "    [theme=dark] .colab-df-convert {\n",
              "      background-color: #3B4455;\n",
              "      fill: #D2E3FC;\n",
              "    }\n",
              "\n",
              "    [theme=dark] .colab-df-convert:hover {\n",
              "      background-color: #434B5C;\n",
              "      box-shadow: 0px 1px 3px 1px rgba(0, 0, 0, 0.15);\n",
              "      filter: drop-shadow(0px 1px 2px rgba(0, 0, 0, 0.3));\n",
              "      fill: #FFFFFF;\n",
              "    }\n",
              "  </style>\n",
              "\n",
              "      <script>\n",
              "        const buttonEl =\n",
              "          document.querySelector('#df-49c2a5ea-6923-4cdc-be3d-73cf8681b7b9 button.colab-df-convert');\n",
              "        buttonEl.style.display =\n",
              "          google.colab.kernel.accessAllowed ? 'block' : 'none';\n",
              "\n",
              "        async function convertToInteractive(key) {\n",
              "          const element = document.querySelector('#df-49c2a5ea-6923-4cdc-be3d-73cf8681b7b9');\n",
              "          const dataTable =\n",
              "            await google.colab.kernel.invokeFunction('convertToInteractive',\n",
              "                                                     [key], {});\n",
              "          if (!dataTable) return;\n",
              "\n",
              "          const docLinkHtml = 'Like what you see? Visit the ' +\n",
              "            '<a target=\"_blank\" href=https://colab.research.google.com/notebooks/data_table.ipynb>data table notebook</a>'\n",
              "            + ' to learn more about interactive tables.';\n",
              "          element.innerHTML = '';\n",
              "          dataTable['output_type'] = 'display_data';\n",
              "          await google.colab.output.renderOutput(dataTable, element);\n",
              "          const docLink = document.createElement('div');\n",
              "          docLink.innerHTML = docLinkHtml;\n",
              "          element.appendChild(docLink);\n",
              "        }\n",
              "      </script>\n",
              "    </div>\n",
              "  </div>\n",
              "  "
            ]
          },
          "metadata": {},
          "execution_count": 14
        }
      ]
    },
    {
      "cell_type": "code",
      "source": [
        "x=df.iloc[:,[4,5,7,8]]\n",
        "y=df['modal_price']"
      ],
      "metadata": {
        "id": "y6wNxEsZyMZm"
      },
      "execution_count": 15,
      "outputs": []
    },
    {
      "cell_type": "code",
      "source": [
        "x.loc[1692]\n",
        "y.loc[1692]\n",
        "X_train, X_test, y_train, y_test = train_test_split(x, y, test_size=0.2, random_state=1)\n",
        "X_test.loc[1692]"
      ],
      "metadata": {
        "colab": {
          "base_uri": "https://localhost:8080/"
        },
        "id": "f2K8T05oyPZQ",
        "outputId": "da8c93a7-d679-42bf-c215-b941bb84643a"
      },
      "execution_count": 16,
      "outputs": [
        {
          "output_type": "execute_result",
          "data": {
            "text/plain": [
              "commodity      41.0\n",
              "variety        78.0\n",
              "min_price    3000.0\n",
              "max_price    3800.0\n",
              "Name: 1692, dtype: float64"
            ]
          },
          "metadata": {},
          "execution_count": 16
        }
      ]
    },
    {
      "cell_type": "code",
      "source": [
        "alg = LinearRegression()\n",
        "alg.fit(X_train, y_train)"
      ],
      "metadata": {
        "colab": {
          "base_uri": "https://localhost:8080/"
        },
        "id": "a3G9eDoCyQv0",
        "outputId": "a8457683-6e12-4294-b5df-0075c43b6087"
      },
      "execution_count": 17,
      "outputs": [
        {
          "output_type": "execute_result",
          "data": {
            "text/plain": [
              "LinearRegression()"
            ]
          },
          "metadata": {},
          "execution_count": 17
        }
      ]
    },
    {
      "cell_type": "code",
      "source": [
        "from sklearn.metrics import r2_score\n",
        "y_predict = alg.predict(X_test)\n",
        "\n",
        "print(r2_score(y_predict,y_test))\n",
        "y_predict"
      ],
      "metadata": {
        "colab": {
          "base_uri": "https://localhost:8080/"
        },
        "id": "a6rd7rJFyVOz",
        "outputId": "40f62824-febf-451f-af4f-33436eccbea0"
      },
      "execution_count": 18,
      "outputs": [
        {
          "output_type": "stream",
          "name": "stdout",
          "text": [
            "0.992368576835764\n"
          ]
        },
        {
          "output_type": "execute_result",
          "data": {
            "text/plain": [
              "array([3489.39790971, 6716.12259556, 2191.43022183, ..., 2193.03639206,\n",
              "       3598.82193142, 4266.78503184])"
            ]
          },
          "metadata": {},
          "execution_count": 18
        }
      ]
    },
    {
      "cell_type": "code",
      "source": [
        "rmse = sqrt(mean_squared_error(y_predict, y_test))\n",
        "print(rmse)"
      ],
      "metadata": {
        "colab": {
          "base_uri": "https://localhost:8080/"
        },
        "id": "oyskdcQrya0p",
        "outputId": "1f5efc3f-2f2b-437b-d6f7-25a7f5af8483"
      },
      "execution_count": 19,
      "outputs": [
        {
          "output_type": "stream",
          "name": "stdout",
          "text": [
            "334.53448911167084\n"
          ]
        }
      ]
    },
    {
      "cell_type": "code",
      "source": [
        "x.shape"
      ],
      "metadata": {
        "colab": {
          "base_uri": "https://localhost:8080/"
        },
        "id": "qZozf6_6yljI",
        "outputId": "61580955-d98b-4fc1-d74c-2520aa09b70b"
      },
      "execution_count": 20,
      "outputs": [
        {
          "output_type": "execute_result",
          "data": {
            "text/plain": [
              "(7418, 4)"
            ]
          },
          "metadata": {},
          "execution_count": 20
        }
      ]
    },
    {
      "cell_type": "code",
      "source": [
        "clf = LinearRegression()\n",
        "scores = cross_val_score(clf, x, y, cv=5, scoring='neg_mean_squared_error')"
      ],
      "metadata": {
        "id": "55LofMAoym2u"
      },
      "execution_count": 21,
      "outputs": []
    },
    {
      "cell_type": "code",
      "source": [
        "for i in range(0,5):\n",
        "    scores[i] = sqrt(-1*scores[i])"
      ],
      "metadata": {
        "id": "eeRMQyJfyqWh"
      },
      "execution_count": 22,
      "outputs": []
    },
    {
      "cell_type": "code",
      "source": [
        "print(scores)\n",
        "\n",
        "print(\"\\n\\nr2_score is \" , r2_score(y_predict,y_test))\n",
        "avg_rmse_phos = scores.mean()\n",
        "print(\"\\n\\nAvg RMSE is \",scores.mean())"
      ],
      "metadata": {
        "colab": {
          "base_uri": "https://localhost:8080/"
        },
        "id": "py5C4oRTysqL",
        "outputId": "8442e016-1b83-47ac-86f5-718424eabcd2"
      },
      "execution_count": 23,
      "outputs": [
        {
          "output_type": "stream",
          "name": "stdout",
          "text": [
            "[349.14610144 505.23651023 268.67731891 368.61847971 146.38580753]\n",
            "\n",
            "\n",
            "r2_score is  0.992368576835764\n",
            "\n",
            "\n",
            "Avg RMSE is  327.61284356314155\n"
          ]
        }
      ]
    },
    {
      "cell_type": "code",
      "source": [
        "width=12\n",
        "height=10\n",
        "plt.figure(figsize=(width, height))\n",
        "\n",
        "\n",
        "ax1 = sns.distplot(y_test, hist=False, color=\"r\", label=\"Actual Value\")\n",
        "sns.distplot(y_predict, hist=False, color=\"b\", label=\"Fitted Values\" , ax=ax1)\n",
        "\n",
        "\n",
        "plt.title('Actual vs Fitted Values for Price')\n",
        "plt.xlabel('Price')\n",
        "plt.ylabel('Proportion of Crops')\n",
        "\n",
        "plt.show()\n",
        "plt.close()"
      ],
      "metadata": {
        "colab": {
          "base_uri": "https://localhost:8080/",
          "height": 621
        },
        "id": "QEokJz-WyvMu",
        "outputId": "43047657-9d71-4613-eff9-3d3e36fcb143"
      },
      "execution_count": 24,
      "outputs": [
        {
          "output_type": "display_data",
          "data": {
            "text/plain": [
              "<Figure size 864x720 with 1 Axes>"
            ],
            "image/png": "[encoded data removed]"
          },
          "metadata": {
            "needs_background": "light"
          }
        }
      ]
    },
    {
      "cell_type": "code",
      "source": [
        "from sklearn.ensemble import RandomForestRegressor\n",
        "rfr=RandomForestRegressor()\n",
        "rfr.fit(X_train,y_train)\n",
        "y_predict1 = rfr.predict(X_test)\n",
        "rfr.score(X_test,y_test)"
      ],
      "metadata": {
        "colab": {
          "base_uri": "https://localhost:8080/"
        },
        "id": "7BO1qJ_hyyia",
        "outputId": "16c25060-64cd-40cb-b113-67142cc49334"
      },
      "execution_count": 25,
      "outputs": [
        {
          "output_type": "execute_result",
          "data": {
            "text/plain": [
              "0.99146627302338"
            ]
          },
          "metadata": {},
          "execution_count": 25
        }
      ]
    },
    {
      "cell_type": "code",
      "source": [
        "y_predict1"
      ],
      "metadata": {
        "colab": {
          "base_uri": "https://localhost:8080/"
        },
        "id": "tpQTZN2Ny4Fz",
        "outputId": "ff978aff-3a8f-4944-e6da-ce42d1957741"
      },
      "execution_count": 26,
      "outputs": [
        {
          "output_type": "execute_result",
          "data": {
            "text/plain": [
              "array([3487.895, 6752.47 , 2200.7  , ..., 2204.5  , 3523.35 , 4308.34 ])"
            ]
          },
          "metadata": {},
          "execution_count": 26
        }
      ]
    },
    {
      "cell_type": "code",
      "source": [
        "print(\"\\n\\nr2_score is \" , r2_score(y_predict1,y_test))"
      ],
      "metadata": {
        "colab": {
          "base_uri": "https://localhost:8080/"
        },
        "id": "iDj3TqE3y66A",
        "outputId": "4f3449ea-cf7c-4314-c26f-10fa6c787c29"
      },
      "execution_count": 27,
      "outputs": [
        {
          "output_type": "stream",
          "name": "stdout",
          "text": [
            "\n",
            "\n",
            "r2_score is  0.9914111887561361\n"
          ]
        }
      ]
    },
    {
      "cell_type": "code",
      "source": [
        "from sklearn import tree\n",
        "\n",
        "dt=tree.DecisionTreeRegressor()\n",
        "dt.fit(X_train, y_train)\n",
        "x_predicted=dt.predict(X_test)\n",
        "r2_score(x_predicted,y_test)"
      ],
      "metadata": {
        "colab": {
          "base_uri": "https://localhost:8080/"
        },
        "id": "3Lwvq8ovy8mu",
        "outputId": "b053b8d3-f808-49f4-cdd9-93f80256787c"
      },
      "execution_count": 28,
      "outputs": [
        {
          "output_type": "execute_result",
          "data": {
            "text/plain": [
              "0.9851119942947155"
            ]
          },
          "metadata": {},
          "execution_count": 28
        }
      ]
    },
    {
      "cell_type": "code",
      "source": [
        "from sklearn.preprocessing import MinMaxScaler\n",
        "scaler = MinMaxScaler(feature_range=(0, 1))\n",
        "\n",
        "x_train_scaled = scaler.fit_transform(X_train)\n",
        "x_train = pd.DataFrame(x_train_scaled)\n",
        "\n",
        "x_test_scaled = scaler.fit_transform(X_test)\n",
        "x_test = pd.DataFrame(x_test_scaled)"
      ],
      "metadata": {
        "id": "pXmrS_bZy_Fe"
      },
      "execution_count": 29,
      "outputs": []
    },
    {
      "cell_type": "code",
      "source": [
        "test_vector = np.reshape(np.asarray([1,32,3100.0,3000.0]),(1,4))\n",
        "p = int(alg.predict(test_vector)[0])\n",
        "p\n"
      ],
      "metadata": {
        "colab": {
          "base_uri": "https://localhost:8080/"
        },
        "id": "-pRa3Lm9zDEE",
        "outputId": "017bfcad-4470-4e88-f749-2790e3561b62"
      },
      "execution_count": 30,
      "outputs": [
        {
          "output_type": "execute_result",
          "data": {
            "text/plain": [
              "3003"
            ]
          },
          "metadata": {},
          "execution_count": 30
        }
      ]
    },
    {
      "cell_type": "code",
      "source": [
        "test_vector = np.reshape(np.asarray([1,32,3100.0,3000.0]),(1,4))\n",
        "p = int(dt.predict(test_vector)[0])\n",
        "p"
      ],
      "metadata": {
        "id": "N8Hf-oVXzEle",
        "outputId": "d8efd207-cf42-4c4a-f23b-b9050abe4da1",
        "colab": {
          "base_uri": "https://localhost:8080/"
        }
      },
      "execution_count": 31,
      "outputs": [
        {
          "output_type": "execute_result",
          "data": {
            "text/plain": [
              "3050"
            ]
          },
          "metadata": {},
          "execution_count": 31
        }
      ]
    },
    {
      "cell_type": "code",
      "source": [
        "import pickle\n",
        "pickle.dump(alg, open(\"alg.pkl\", \"wb\"))\n",
        "pickle.dump(rfr, open(\"rfr.pkl\", \"wb\"))\n",
        "pickle.dump(dt, open(\"dt.pkl\", \"wb\"))\n",
        "print(\"All Models Saved\")"
      ],
      "metadata": {
        "colab": {
          "base_uri": "https://localhost:8080/"
        },
        "id": "J2CtrAs-WTuQ",
        "outputId": "24d14f89-c39b-4db0-889e-9e6b52abe137"
      },
      "execution_count": 32,
      "outputs": [
        {
          "output_type": "stream",
          "name": "stdout",
          "text": [
            "All Models Saved\n"
          ]
        }
      ]
    },
    {
      "cell_type": "code",
      "source": [
        ""
      ],
      "metadata": {
        "id": "RsU7K9SqVoJz"
      },
      "execution_count": null,
      "outputs": []
    }
  ]
}